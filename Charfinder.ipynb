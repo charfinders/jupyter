{
 "cells": [
  {
   "cell_type": "markdown",
   "metadata": {},
   "source": [
    "# Unicode Character Finder"
   ]
  },
  {
   "cell_type": "code",
   "execution_count": 1,
   "metadata": {
    "collapsed": true
   },
   "outputs": [],
   "source": [
    "from urllib import request\n",
    "UCD_URL = 'http://www.unicode.org/Public/UCD/latest/ucd/UnicodeData.txt'"
   ]
  },
  {
   "cell_type": "code",
   "execution_count": 2,
   "metadata": {
    "collapsed": false
   },
   "outputs": [
    {
     "data": {
      "text/plain": [
       "b'0000;<control>;Cc;0;BN;;;;;N;NULL;;;;\\n0001;<control>;Cc;0;BN;;;;;N;START OF HEADING;;;;\\n0002;<control>;Cc;0;BN;;;;;N;START OF TEXT;;;;\\n0003;<control>;Cc;0;BN;;;;;N;END OF TEXT;;;;\\n0004;<control>;Cc;0;'"
      ]
     },
     "execution_count": 2,
     "metadata": {},
     "output_type": "execute_result"
    }
   ],
   "source": [
    "with request.urlopen(UCD_URL) as fp:\n",
    "    octets = fp.read()\n",
    "\n",
    "octets[:200]    "
   ]
  },
  {
   "cell_type": "code",
   "execution_count": 3,
   "metadata": {
    "collapsed": false
   },
   "outputs": [
    {
     "name": "stdout",
     "output_type": "stream",
     "text": [
      "30592\n"
     ]
    },
    {
     "data": {
      "text/plain": [
       "'0041;LATIN CAPITAL LETTER A;Lu;0;L;;;;;N;;;;0061;'"
      ]
     },
     "execution_count": 3,
     "metadata": {},
     "output_type": "execute_result"
    }
   ],
   "source": [
    "text = octets.decode('ascii')\n",
    "lines = text.strip().split('\\n')\n",
    "print(len(lines))\n",
    "lines[65]"
   ]
  },
  {
   "cell_type": "code",
   "execution_count": 4,
   "metadata": {
    "collapsed": true
   },
   "outputs": [],
   "source": [
    "def tokenize(*parts):\n",
    "    tokens = []\n",
    "    for part in parts:\n",
    "        part = part.replace('-', ' ').upper()\n",
    "        tokens.extend(part.split())\n",
    "    return tokens"
   ]
  },
  {
   "cell_type": "code",
   "execution_count": 5,
   "metadata": {
    "collapsed": false
   },
   "outputs": [
    {
     "data": {
      "text/plain": [
       "['AAA']"
      ]
     },
     "execution_count": 5,
     "metadata": {},
     "output_type": "execute_result"
    }
   ],
   "source": [
    "tokenize('aaa')"
   ]
  },
  {
   "cell_type": "code",
   "execution_count": 6,
   "metadata": {
    "collapsed": false
   },
   "outputs": [
    {
     "data": {
      "text/plain": [
       "['AAA', 'BB']"
      ]
     },
     "execution_count": 6,
     "metadata": {},
     "output_type": "execute_result"
    }
   ],
   "source": [
    "tokenize('aaa-BB')"
   ]
  },
  {
   "cell_type": "code",
   "execution_count": 7,
   "metadata": {
    "collapsed": false
   },
   "outputs": [
    {
     "data": {
      "text/plain": [
       "['AAA', 'BB', 'C']"
      ]
     },
     "execution_count": 7,
     "metadata": {},
     "output_type": "execute_result"
    }
   ],
   "source": [
    "tokenize('aaa', 'BB-c')"
   ]
  },
  {
   "cell_type": "code",
   "execution_count": 8,
   "metadata": {
    "collapsed": true
   },
   "outputs": [],
   "source": [
    "def parse(ucd_line):\n",
    "    code, name, _ = ucd_line.split(';', 2)\n",
    "    char = chr(int(code, 16))\n",
    "    words = set(tokenize(name))\n",
    "    return char, name, words"
   ]
  },
  {
   "cell_type": "code",
   "execution_count": 9,
   "metadata": {
    "collapsed": false
   },
   "outputs": [
    {
     "data": {
      "text/plain": [
       "('A', 'LATIN CAPITAL LETTER A', {'A', 'CAPITAL', 'LATIN', 'LETTER'})"
      ]
     },
     "execution_count": 9,
     "metadata": {},
     "output_type": "execute_result"
    }
   ],
   "source": [
    "parse(lines[65])"
   ]
  },
  {
   "cell_type": "code",
   "execution_count": 10,
   "metadata": {
    "collapsed": false
   },
   "outputs": [
    {
     "data": {
      "text/plain": [
       "('µ', 'MICRO SIGN', {'MICRO', 'SIGN'})"
      ]
     },
     "execution_count": 10,
     "metadata": {},
     "output_type": "execute_result"
    }
   ],
   "source": [
    "parse(lines[0xb5])"
   ]
  },
  {
   "cell_type": "code",
   "execution_count": 11,
   "metadata": {
    "collapsed": false
   },
   "outputs": [
    {
     "data": {
      "text/plain": [
       "('<', 'LESS-THAN SIGN', {'LESS', 'SIGN', 'THAN'})"
      ]
     },
     "execution_count": 11,
     "metadata": {},
     "output_type": "execute_result"
    }
   ],
   "source": [
    "parse(lines[0x3c])"
   ]
  },
  {
   "cell_type": "code",
   "execution_count": 12,
   "metadata": {
    "collapsed": true
   },
   "outputs": [],
   "source": [
    "def select(query_list, lines):\n",
    "    query_set = set(tokenize(*query_list))\n",
    "    for line in lines:\n",
    "        char, name, words = parse(line)\n",
    "        if query_set <= words:\n",
    "            yield char, name"
   ]
  },
  {
   "cell_type": "code",
   "execution_count": 13,
   "metadata": {
    "collapsed": false
   },
   "outputs": [
    {
     "name": "stdout",
     "output_type": "stream",
     "text": [
      "♚\tBLACK CHESS KING\n",
      "♛\tBLACK CHESS QUEEN\n",
      "♜\tBLACK CHESS ROOK\n",
      "♝\tBLACK CHESS BISHOP\n",
      "♞\tBLACK CHESS KNIGHT\n",
      "♟\tBLACK CHESS PAWN\n"
     ]
    }
   ],
   "source": [
    "for char, name in select(['chess', 'black'], lines):\n",
    "    print('{}\\t{}'.format(char, name))"
   ]
  },
  {
   "cell_type": "code",
   "execution_count": 14,
   "metadata": {
    "collapsed": false
   },
   "outputs": [],
   "source": [
    "def summary(count):\n",
    "    if count > 1:\n",
    "        return '{} characters found.'.format(count)\n",
    "    elif count == 1:\n",
    "        return '1 character found.'\n",
    "    else:\n",
    "        return 'No matching character name.'\n",
    "    \n",
    "\n",
    "def finder():\n",
    "    while True:\n",
    "        print('━' * 70)\n",
    "        query = input('Words to search:')\n",
    "        if not query:\n",
    "            break\n",
    "        count = 0\n",
    "        for char, name in select(query.split(), lines):\n",
    "            print('{}\\t{}'.format(char, name))\n",
    "            count += 1\n",
    "        print(summary(count))\n"
   ]
  },
  {
   "cell_type": "code",
   "execution_count": 15,
   "metadata": {
    "collapsed": false
   },
   "outputs": [
    {
     "name": "stdout",
     "output_type": "stream",
     "text": [
      "━━━━━━━━━━━━━━━━━━━━━━━━━━━━━━━━━━━━━━━━━━━━━━━━━━━━━━━━━━━━━━━━━━━━━━\n",
      "Words to search:cat face\n",
      "🐱\tCAT FACE\n",
      "😸\tGRINNING CAT FACE WITH SMILING EYES\n",
      "😹\tCAT FACE WITH TEARS OF JOY\n",
      "😺\tSMILING CAT FACE WITH OPEN MOUTH\n",
      "😻\tSMILING CAT FACE WITH HEART-SHAPED EYES\n",
      "😼\tCAT FACE WITH WRY SMILE\n",
      "😽\tKISSING CAT FACE WITH CLOSED EYES\n",
      "😾\tPOUTING CAT FACE\n",
      "😿\tCRYING CAT FACE\n",
      "🙀\tWEARY CAT FACE\n",
      "10 characters found.\n",
      "━━━━━━━━━━━━━━━━━━━━━━━━━━━━━━━━━━━━━━━━━━━━━━━━━━━━━━━━━━━━━━━━━━━━━━\n",
      "Words to search:\n"
     ]
    }
   ],
   "source": [
    "finder()"
   ]
  }
 ],
 "metadata": {
  "anaconda-cloud": {},
  "kernelspec": {
   "display_name": "Python [default]",
   "language": "python",
   "name": "python3"
  },
  "language_info": {
   "codemirror_mode": {
    "name": "ipython",
    "version": 3
   },
   "file_extension": ".py",
   "mimetype": "text/x-python",
   "name": "python",
   "nbconvert_exporter": "python",
   "pygments_lexer": "ipython3",
   "version": "3.5.2"
  }
 },
 "nbformat": 4,
 "nbformat_minor": 0
}
