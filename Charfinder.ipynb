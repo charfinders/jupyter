{
 "cells": [
  {
   "cell_type": "markdown",
   "metadata": {},
   "source": [
    "# Unicode Character Finder"
   ]
  },
  {
   "cell_type": "code",
   "execution_count": 1,
   "metadata": {
    "collapsed": true
   },
   "outputs": [],
   "source": [
    "from urllib import request\n",
    "UCD_URL = 'http://www.unicode.org/Public/UCD/latest/ucd/UnicodeData.txt'"
   ]
  },
  {
   "cell_type": "code",
   "execution_count": 4,
   "metadata": {
    "collapsed": false
   },
   "outputs": [
    {
     "data": {
      "text/plain": [
       "b'0000;<control>;Cc;0;BN;;;;;N;NULL;;;;\\n0001;<control>;Cc;0;BN;;;;;N;START OF HEADING;;;;\\n0002;<control>;Cc;0;BN;;;;;N;START OF TEXT;;;;\\n0003;<control>;Cc;0;BN;;;;;N;END OF TEXT;;;;\\n0004;<control>;Cc;0;'"
      ]
     },
     "execution_count": 4,
     "metadata": {},
     "output_type": "execute_result"
    }
   ],
   "source": [
    "with request.urlopen(UCD_URL) as fp:\n",
    "    octets = fp.read()\n",
    "\n",
    "octets[:200]    "
   ]
  },
  {
   "cell_type": "code",
   "execution_count": 5,
   "metadata": {
    "collapsed": false
   },
   "outputs": [
    {
     "name": "stdout",
     "output_type": "stream",
     "text": [
      "30593\n"
     ]
    },
    {
     "data": {
      "text/plain": [
       "'0041;LATIN CAPITAL LETTER A;Lu;0;L;;;;;N;;;;0061;'"
      ]
     },
     "execution_count": 5,
     "metadata": {},
     "output_type": "execute_result"
    }
   ],
   "source": [
    "text = octets.decode('ascii')\n",
    "lines = text.split('\\n')\n",
    "print(len(lines))\n",
    "lines[65]"
   ]
  },
  {
   "cell_type": "code",
   "execution_count": 6,
   "metadata": {
    "collapsed": false
   },
   "outputs": [
    {
     "name": "stdout",
     "output_type": "stream",
     "text": [
      "A\tLATIN CAPITAL LETTER A\n"
     ]
    }
   ],
   "source": [
    "parts = lines[65].split(';')\n",
    "char = chr(int(parts[0], 16))\n",
    "print(char, parts[1], sep='\\t')"
   ]
  },
  {
   "cell_type": "code",
   "execution_count": null,
   "metadata": {
    "collapsed": true
   },
   "outputs": [],
   "source": []
  }
 ],
 "metadata": {
  "kernelspec": {
   "display_name": "Python 3",
   "language": "python",
   "name": "python3"
  },
  "language_info": {
   "codemirror_mode": {
    "name": "ipython",
    "version": 3
   },
   "file_extension": ".py",
   "mimetype": "text/x-python",
   "name": "python",
   "nbconvert_exporter": "python",
   "pygments_lexer": "ipython3",
   "version": "3.5.2"
  }
 },
 "nbformat": 4,
 "nbformat_minor": 0
}
